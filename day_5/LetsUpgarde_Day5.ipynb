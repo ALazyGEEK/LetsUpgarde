{
 "cells": [
  {
   "cell_type": "markdown",
   "metadata": {},
   "source": [
    "##### Q1. Write a Python program to find the first 20 non-even prime natural numbers."
   ]
  },
  {
   "cell_type": "code",
   "execution_count": 11,
   "metadata": {},
   "outputs": [
    {
     "name": "stdout",
     "output_type": "stream",
     "text": [
      "3\n",
      "5\n",
      "7\n",
      "11\n",
      "13\n",
      "17\n",
      "19\n",
      "23\n",
      "29\n",
      "31\n",
      "37\n",
      "41\n",
      "43\n",
      "47\n",
      "53\n",
      "59\n",
      "61\n",
      "67\n",
      "71\n",
      "73\n"
     ]
    }
   ],
   "source": [
    "numprimes = 20\n",
    "count = 0\n",
    "potentialprime = 2\n",
    "\n",
    "def primetest(potentialprime):\n",
    "   divisor = 2\n",
    "   while divisor <= potentialprime:\n",
    "       if potentialprime == 2:\n",
    "           return True\n",
    "       elif potentialprime % divisor == 0:\n",
    "           return False\n",
    "           break\n",
    "       while potentialprime % divisor != 0:\n",
    "           if potentialprime - divisor > 1:\n",
    "               divisor += 1\n",
    "           else:\n",
    "               return True\n",
    "\n",
    "while count < int(numprimes):\n",
    "   if (primetest(potentialprime) == True) and (potentialprime%2!=0):\n",
    "       print (potentialprime)\n",
    "       count += 1\n",
    "       potentialprime += 1\n",
    "   else:\n",
    "       potentialprime += 1"
   ]
  },
  {
   "cell_type": "markdown",
   "metadata": {},
   "source": [
    "##### Q2. Write a Python program to implement 15 functions of string."
   ]
  },
  {
   "cell_type": "code",
   "execution_count": null,
   "metadata": {},
   "outputs": [],
   "source": []
  },
  {
   "cell_type": "markdown",
   "metadata": {},
   "source": [
    "##### Q3. Write a Python program to check if the given string is a Palindrome or Anagram or None of them. Display the message accordingly to the user."
   ]
  },
  {
   "cell_type": "code",
   "execution_count": 10,
   "metadata": {},
   "outputs": [
    {
     "name": "stdout",
     "output_type": "stream",
     "text": [
      "Yes\n"
     ]
    }
   ],
   "source": [
    "def canFormPalindrome(string): \n",
    "      \n",
    "    # Create a count array and initialize all  \n",
    "    # values as 0 \n",
    "    count = [0 for i in range(256)] \n",
    "    \n",
    "    # For each character in input strings, \n",
    "    # increment count in the corresponding \n",
    "    # count array \n",
    "    for i in string: \n",
    "        count[ord(i)] += 1\n",
    "    \n",
    "    # Count odd occurring characters \n",
    "    odd = 0\n",
    "    for i in range(256): \n",
    "        if (count[i] & 1): \n",
    "            odd += 1\n",
    "   \n",
    "        if (odd > 1): \n",
    "            return False\n",
    "    \n",
    "    # Return true if odd count is 0 or 1,  \n",
    "    return True\n",
    "    \n",
    "# Driver program to test to print printDups \n",
    "if(canFormPalindrome(\"stats\")): \n",
    "    print (\"Yes\")\n",
    "else: \n",
    "    print (\"No\")\n"
   ]
  },
  {
   "cell_type": "markdown",
   "metadata": {},
   "source": [
    "##### Q4. Write a Python's user defined function that removes all the additional characters from the string and converts it finally to lower case using built-in lower(). eg: If the string is \"Dr. Darshan Ingle @AI-ML Trainer\", then the output be \"drdarshaningleaimltrainer\"."
   ]
  },
  {
   "cell_type": "code",
   "execution_count": 18,
   "metadata": {
    "pixiedust": {
     "displayParams": {}
    }
   },
   "outputs": [
    {
     "name": "stdout",
     "output_type": "stream",
     "text": [
      "drdarshaningleaimltrainer\n"
     ]
    }
   ],
   "source": [
    "import re\n",
    "\n",
    "def converttolower(str_to_convert): \n",
    "    str_to_convert = str_to_convert.lower()\n",
    "    str_to_convert = re.sub(r'\\W+', '', str_to_convert)\n",
    "    print(str_to_convert)\n",
    "\n",
    "converttolower(\"Dr. Darshan Ingle @AI-ML Trainer\")"
   ]
  }
 ],
 "metadata": {
  "kernelspec": {
   "display_name": "Python 3",
   "language": "python",
   "name": "python3"
  },
  "language_info": {
   "codemirror_mode": {
    "name": "ipython",
    "version": 3
   },
   "file_extension": ".py",
   "mimetype": "text/x-python",
   "name": "python",
   "nbconvert_exporter": "python",
   "pygments_lexer": "ipython3",
   "version": "3.7.6"
  }
 },
 "nbformat": 4,
 "nbformat_minor": 4
}
