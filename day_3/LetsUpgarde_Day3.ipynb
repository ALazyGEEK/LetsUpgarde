{
 "cells": [
  {
   "cell_type": "markdown",
   "metadata": {},
   "source": [
    "##### Q1. Write a program to subtract two complex numbers in Python."
   ]
  },
  {
   "cell_type": "code",
   "execution_count": 1,
   "metadata": {},
   "outputs": [
    {
     "name": "stdout",
     "output_type": "stream",
     "text": [
      "The two complex numbers are (2+4j) and (5+10j) and substration results is (-3-6j)\n"
     ]
    }
   ],
   "source": [
    "# varible declaration\n",
    "complex_number_a = 5+10j\n",
    "complex_number_b = 2+4j\n",
    "# performing substraction of two complex numbers\n",
    "substract_results = complex_number_b - complex_number_a\n",
    "print(\"The two complex numbers are {} and {} and substration results is {}\".format(complex_number_b, complex_number_a, substract_results))"
   ]
  },
  {
   "cell_type": "markdown",
   "metadata": {},
   "source": [
    "##### Q2. Write a program to find the fourth root of a number."
   ]
  },
  {
   "cell_type": "code",
   "execution_count": 3,
   "metadata": {},
   "outputs": [
    {
     "name": "stdin",
     "output_type": "stream",
     "text": [
      "Enter the number : 2\n"
     ]
    },
    {
     "name": "stdout",
     "output_type": "stream",
     "text": [
      "The root number is 4th root of 2.0 is 1.189207115002721\n"
     ]
    }
   ],
   "source": [
    "# varible declaration\n",
    "root_number = 4\n",
    "number = float(input(\"Enter the number :\"))\n",
    "# performing fourth root a given numbers\n",
    "result = number**(1/root_number)\n",
    "print(\"The root number is {}th root of {} is {}\".format(root_number, number, result))"
   ]
  },
  {
   "cell_type": "markdown",
   "metadata": {},
   "source": [
    "##### Q3. Write a program to swap two numbers in Python with the help of a temporary variable"
   ]
  },
  {
   "cell_type": "code",
   "execution_count": 5,
   "metadata": {},
   "outputs": [
    {
     "name": "stdin",
     "output_type": "stream",
     "text": [
      "Value of first_number : 5\n",
      "Value of second_number : 9\n"
     ]
    },
    {
     "name": "stdout",
     "output_type": "stream",
     "text": [
      "Swapped value of first_number : 9 and second_number : 5\n"
     ]
    }
   ],
   "source": [
    "# varible declaration\n",
    "first_number = int(input(\"Value of first_number :\"))\n",
    "second_number = int(input(\"Value of second_number :\"))\n",
    "temp_number = 0\n",
    "# swapping of two numbers\n",
    "temp_number = first_number\n",
    "first_number = second_number\n",
    "second_number = temp_number\n",
    "print(\"Swapped value of first_number : {} and second_number : {}\".format(first_number,second_number))"
   ]
  },
  {
   "cell_type": "markdown",
   "metadata": {},
   "source": [
    "##### Q4. Write a program to swap two numbers in Python without using a temporary variable."
   ]
  },
  {
   "cell_type": "code",
   "execution_count": 6,
   "metadata": {},
   "outputs": [
    {
     "name": "stdin",
     "output_type": "stream",
     "text": [
      "Value of first_number : 7\n",
      "Value of second_number : 8\n"
     ]
    },
    {
     "name": "stdout",
     "output_type": "stream",
     "text": [
      "Swapped value of first_number : 8 and second_number : 7\n"
     ]
    }
   ],
   "source": [
    "# varible declaration\n",
    "first_number = int(input(\"Value of first_number :\"))\n",
    "second_number = int(input(\"Value of second_number :\"))\n",
    "# swapping of two numbers\n",
    "first_number = first_number + second_number\n",
    "second_number = first_number - second_number\n",
    "first_number = first_number - second_number\n",
    "print(\"Swapped value of first_number : {} and second_number : {}\".format(first_number,second_number))"
   ]
  },
  {
   "cell_type": "markdown",
   "metadata": {},
   "source": [
    "##### Q5. Write a program to convert fahrenheit to kelvin and celsius both."
   ]
  },
  {
   "cell_type": "code",
   "execution_count": 14,
   "metadata": {},
   "outputs": [
    {
     "name": "stdin",
     "output_type": "stream",
     "text": [
      "Enter tempreture in Fahrenheit : 50\n"
     ]
    },
    {
     "name": "stdout",
     "output_type": "stream",
     "text": [
      "The tempreture in celsius : 10.00 and in kelvin : 283.50\n"
     ]
    }
   ],
   "source": [
    "# varible declaration\n",
    "fahrenheit = float(input(\"Enter tempreture in Fahrenheit :\"))\n",
    "# performing fourth root a given numbers\n",
    "celsius = (fahrenheit - 32) * 5.0/9.0\n",
    "kelvin = 273.5 + celsius\n",
    "print(\"The tempreture in celsius : {:.2f} and in kelvin : {:.2f}\".format(celsius, kelvin))"
   ]
  },
  {
   "cell_type": "markdown",
   "metadata": {},
   "source": [
    "##### Q6. Write a program to demonstrate all the available data types in Python. Hint: Use type() function."
   ]
  },
  {
   "cell_type": "code",
   "execution_count": 23,
   "metadata": {},
   "outputs": [
    {
     "name": "stdout",
     "output_type": "stream",
     "text": [
      "Variable: 5 and its type <class 'int'>\n",
      "Variable: 10.0 and its type <class 'float'>\n",
      "Variable: (5+10j) and its type <class 'complex'>\n",
      "String: India and its type <class 'str'>\n",
      "List: ['Lets', 'Up', 'Grade'] and its type <class 'list'>\n",
      "Dictionary: {'Name': 'LetsUpGrade', 1: [1, 2, 3, 4]} and its type <class 'dict'>\n"
     ]
    }
   ],
   "source": [
    "integer_variable = 5\n",
    "print(\"Variable: {} and its type {}\".format(integer_variable,type(integer_variable)))\n",
    "float_variable = 10.0\n",
    "print(\"Variable: {} and its type {}\".format(float_variable,type(float_variable)))\n",
    "complex_number = 5+10j\n",
    "print(\"Variable: {} and its type {}\".format(complex_number,type(complex_number)))\n",
    "string_variable = \"India\"\n",
    "print(\"String: {} and its type {}\".format(string_variable,type(string_variable))) \n",
    "list_variable = [\"Lets\", \"Up\", \"Grade\"] \n",
    "print(\"List: {} and its type {}\".format(list_variable,type(list_variable))) \n",
    "dict_variable = {'Name': 'LetsUpGrade', 1: [1, 2, 3, 4]} \n",
    "print(\"Dictionary: {} and its type {}\".format(dict_variable,type(dict_variable)))"
   ]
  },
  {
   "cell_type": "markdown",
   "metadata": {},
   "source": [
    "##### Q7. Create a Markdown cell in jupyter and list the steps discussed in the session by Dr. Darshan Ingle sir to create Github profile and upload Githubs Assignment link."
   ]
  },
  {
   "cell_type": "markdown",
   "metadata": {},
   "source": [
    "1. Create a Github public repo and name it LetsUpgrade AI/ML\n",
    "2. Upload the files/solution in the repo in day wise manner.\n",
    "3. Copy the URL of the Folder of that day and paste in the Assignment Submission Form (Google Form)\n",
    "4. Make sure correct details are filled in the Assignment Submission Form.\n",
    "5. All the assignment given during the weekdays by respective SUNDAY 12 midnight."
   ]
  }
 ],
 "metadata": {
  "kernelspec": {
   "display_name": "Python 3",
   "language": "python",
   "name": "python3"
  },
  "language_info": {
   "codemirror_mode": {
    "name": "ipython",
    "version": 3
   },
   "file_extension": ".py",
   "mimetype": "text/x-python",
   "name": "python",
   "nbconvert_exporter": "python",
   "pygments_lexer": "ipython3",
   "version": "3.7.6"
  }
 },
 "nbformat": 4,
 "nbformat_minor": 4
}
