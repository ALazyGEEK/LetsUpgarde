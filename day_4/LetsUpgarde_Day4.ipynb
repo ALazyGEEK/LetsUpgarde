{
 "cells": [
  {
   "cell_type": "markdown",
   "metadata": {},
   "source": [
    "##### Q1. Research on whether addition, subtraction, multiplication, division, floor division and modulo operations be performed on complex numbers. Based on your study, implement a Python program to demonstrate these operations."
   ]
  },
  {
   "cell_type": "code",
   "execution_count": 19,
   "metadata": {},
   "outputs": [
    {
     "name": "stdout",
     "output_type": "stream",
     "text": [
      "The two complex numbers are (2+4j) and (5+10j) and substration results is [(-3-6j), (7+14j), (-30+40j), (0.4+0j)]\n"
     ]
    }
   ],
   "source": [
    "# varible declaration\n",
    "complex_number_a = 5+10j\n",
    "complex_number_b = 2+4j\n",
    "results = list()\n",
    "# performing substraction of two complex numbers\n",
    "results.append(complex_number_b - complex_number_a)\n",
    "results.append(complex_number_b + complex_number_a)\n",
    "results.append(complex_number_b * complex_number_a)\n",
    "results.append(complex_number_b / complex_number_a)\n",
    "# modulo and floor division is not performed on complex numbers\n",
    "# results.append(complex_number_b // complex_number_a)\n",
    "# results.append(complex_number_b % complex_number_a)\n",
    "\n",
    "print(\"The two complex numbers are {} and {} and substration results is {}\"\\\n",
    "      .format(complex_number_b, complex_number_a, results))"
   ]
  },
  {
   "cell_type": "markdown",
   "metadata": {},
   "source": [
    "##### Q2. Research on range() functions and its parameters. Create a markdown cell and write in your own words (no copy-paste from google please) what you understand about it. Implement a small program of your choice on the same."
   ]
  },
  {
   "cell_type": "code",
   "execution_count": null,
   "metadata": {},
   "outputs": [],
   "source": []
  },
  {
   "cell_type": "markdown",
   "metadata": {},
   "source": [
    "##### Q3. Consider two numbers. Perform their subtraction and if the result of subtraction is greater than 25, print their multiplication result else print their division result."
   ]
  },
  {
   "cell_type": "code",
   "execution_count": 2,
   "metadata": {},
   "outputs": [
    {
     "name": "stdin",
     "output_type": "stream",
     "text": [
      "Enter First number : 80\n",
      "Enter Second number : 10\n"
     ]
    },
    {
     "name": "stdout",
     "output_type": "stream",
     "text": [
      "Substraction result is greater than 25 hence performing multiplication : 800\n"
     ]
    }
   ],
   "source": [
    "#variable declaration\n",
    "first_number = int(input(\"Enter First number :\"))\n",
    "second_number = int(input(\"Enter Second number :\"))\n",
    "# Perforing Substraction\n",
    "subs_result = first_number - second_number\n",
    "if subs_result > 25:\n",
    "    print(\"Substraction result is greater than 25 hence performing multiplication : {}\".format(first_number*second_number))\n",
    "else:\n",
    "    print(\"Substraction result is less than 25 hence performing division : {}\".format(first_number/second_number))"
   ]
  },
  {
   "cell_type": "markdown",
   "metadata": {},
   "source": [
    "##### Q4. Consider a list of 10 elements of integer values. If the number in the list is divisible by 2, print the result as \"square of that number minus 2\"."
   ]
  },
  {
   "cell_type": "code",
   "execution_count": 22,
   "metadata": {
    "pixiedust": {
     "displayParams": {}
    }
   },
   "outputs": [
    {
     "name": "stdout",
     "output_type": "stream",
     "text": [
      "2 number divisible by 2 hence 2\n",
      "4 number divisible by 2 hence 14\n",
      "6 number divisible by 2 hence 34\n",
      "54 number divisible by 2 hence 2914\n",
      "100 number divisible by 2 hence 9998\n"
     ]
    }
   ],
   "source": [
    "list_variable = [1, 2, 3, 4, 5, 6, 87, 54, 100, 235]\n",
    "for idx in range(0,len(list_variable)):\n",
    "    if not (list_variable[idx]%2):\n",
    "        print(\"{} number divisible by 2 hence {}\".format(list_variable[idx],(list_variable[idx]**2)-2))"
   ]
  },
  {
   "cell_type": "markdown",
   "metadata": {},
   "source": [
    "##### Q5. Consider a list of 10 elements. Print all the elements in the list which are greater than 7 when that number is divided 2."
   ]
  },
  {
   "cell_type": "code",
   "execution_count": 23,
   "metadata": {
    "pixiedust": {
     "displayParams": {}
    }
   },
   "outputs": [
    {
     "name": "stdout",
     "output_type": "stream",
     "text": [
      "number in the list is 87\n",
      "number in the list is 54\n",
      "number in the list is 100\n",
      "number in the list is 235\n"
     ]
    }
   ],
   "source": [
    "list_variable = [1, 2, 3, 4, 5, 6, 87, 54, 100, 235]\n",
    "for idx in range(0,len(list_variable)):\n",
    "    temp = list_variable[idx]/2\n",
    "    if (temp>7):\n",
    "        print(\"number in the list is\",list_variable[idx])"
   ]
  }
 ],
 "metadata": {
  "kernelspec": {
   "display_name": "Python 3",
   "language": "python",
   "name": "python3"
  },
  "language_info": {
   "codemirror_mode": {
    "name": "ipython",
    "version": 3
   },
   "file_extension": ".py",
   "mimetype": "text/x-python",
   "name": "python",
   "nbconvert_exporter": "python",
   "pygments_lexer": "ipython3",
   "version": "3.7.6"
  }
 },
 "nbformat": 4,
 "nbformat_minor": 4
}
