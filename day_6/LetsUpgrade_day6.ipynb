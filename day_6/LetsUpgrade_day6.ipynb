{
 "cells": [
  {
   "cell_type": "markdown",
   "metadata": {},
   "source": [
    "Q1. Assuming that we have some email addresses in the \"username@companyname.com\" format, please write program to print the company name of a given email address. Both user names and company names are composed of letters only.\n",
    "Input Format: The first line of the input contains an email address. Output Format: Print the company name in single line. Example; Input: john@google.com Output: google"
   ]
  },
  {
   "cell_type": "code",
   "execution_count": 3,
   "metadata": {},
   "outputs": [
    {
     "name": "stdout",
     "output_type": "stream",
     "text": [
      "Please enter email address : john@google.com \n",
      "username: john and domain: google\n"
     ]
    }
   ],
   "source": [
    "email= input(\"Please enter email address :\")\n",
    "email_username = email.split(\"@\")[0]\n",
    "email_domain = email.split(\"@\")[1].split(\".\")[0]\n",
    "print (\"username:{} and domain: {}\".format(email_username,email_domain))"
   ]
  },
  {
   "cell_type": "markdown",
   "metadata": {},
   "source": [
    "Q2. Write a program that accepts a comma-separated sequence of words as input and prints the words in a comma separated sequence after sorting them alphabetically. Input Format: The first line of input contains words separated by the comma. Output Format: Print the sorted words separated by the comma. Example: Input: without,hello,bag,world Output: bag,hello,without,world"
   ]
  },
  {
   "cell_type": "code",
   "execution_count": 8,
   "metadata": {
    "scrolled": true
   },
   "outputs": [
    {
     "name": "stdout",
     "output_type": "stream",
     "text": [
      "without,hello,bag,world\n",
      "['bag', 'hello', 'without', 'world']\n",
      "bag,hello,without,world"
     ]
    }
   ],
   "source": [
    "IN = list(input().split(','))\n",
    "l1 = len(IN)\n",
    "\n",
    "IN = sorted(IN)\n",
    "print(IN)\n",
    "for i in range (l1):\n",
    "    if i == l1-1:\n",
    "        print(IN[i],end=\"\")\n",
    "    else:\n",
    "        print(IN[i],end=\",\")"
   ]
  },
  {
   "cell_type": "markdown",
   "metadata": {},
   "source": [
    "###### Q4. Given a list of n-1 numbers ranging from 1 to n, your task is to find the missing number. There are no duplicates. Input Format: The first line contains n-1 numbers with each number separated by a space. Output Format: Print the missing number Example: Input:1 2 4 6 3 7 8 Output:5 Explanation: In the above list of numbers 5 is missing and hence 5 is the input"
   ]
  },
  {
   "cell_type": "code",
   "execution_count": 16,
   "metadata": {},
   "outputs": [
    {
     "name": "stdout",
     "output_type": "stream",
     "text": [
      "Input : [1, 2, 3, 5, 6, 7, 8]\n",
      "Output: 4\n",
      "Explanation: In the above list of numbers 4 is missing and hence 4 is the input\n"
     ]
    }
   ],
   "source": [
    "arr = [1, 2, 3, 5, 6, 7, 8] \n",
    "n = len(arr) \n",
    "x1 = a[0] \n",
    "x2 = 1\n",
    "\n",
    "for i in range(1, n): \n",
    "    x1 = x1 ^ arr[i] \n",
    "\n",
    "for i in range(2, n + 2): \n",
    "    x2 = x2 ^ i \n",
    "\n",
    "miss = x1 ^ x2 \n",
    "print(\"Input : {}\\nOutput: {}\\nExplanation: In the above list of numbers {} is missing and hence {} is the input\".format(arr,miss,miss,miss))"
   ]
  },
  {
   "cell_type": "markdown",
   "metadata": {},
   "source": [
    "###### Q5. With a given list L, write a program to print this list L after removing all duplicate values with original order reserved. Example: If the input list is 12 24 35 24 88 120 155 88 120 155 Then the output should be 12 24 35 88 120 155 Explanation: Third, seventh and ninth element of the list L has been removed because it was already present. Input Format: In one line take the elements of the list L with each element separated by a space. Output Format: Print the elements of the modified list in one line with each element separated by a space. Example: Input: 12 24 35 24 Output: 12 24 35"
   ]
  },
  {
   "cell_type": "code",
   "execution_count": 21,
   "metadata": {},
   "outputs": [
    {
     "name": "stdout",
     "output_type": "stream",
     "text": [
      "Enter numbers seperated by space: 12 24 35 24\n",
      "Input : ['12', '24', '35', '24']\n",
      "Output: ['12', '24', '35']\n"
     ]
    }
   ],
   "source": [
    "def Remove(duplicate): \n",
    "    final_list = [] \n",
    "    for num in duplicate: \n",
    "        if num not in final_list: \n",
    "            final_list.append(num) \n",
    "    return final_list \n",
    "\n",
    "duplicate = list(input(\"Enter numbers seperated by space: \").split(\" \")) \n",
    "print(\"Input : {}\\nOutput: {}\".format(duplicate,Remove(duplicate)))"
   ]
  }
 ],
 "metadata": {
  "kernelspec": {
   "display_name": "Python 3",
   "language": "python",
   "name": "python3"
  },
  "language_info": {
   "codemirror_mode": {
    "name": "ipython",
    "version": 3
   },
   "file_extension": ".py",
   "mimetype": "text/x-python",
   "name": "python",
   "nbconvert_exporter": "python",
   "pygments_lexer": "ipython3",
   "version": "3.7.6"
  }
 },
 "nbformat": 4,
 "nbformat_minor": 4
}
